{
 "cells": [
  {
   "cell_type": "code",
   "execution_count": 2,
   "metadata": {},
   "outputs": [],
   "source": [
    "from arcgis.gis import GIS"
   ]
  },
  {
   "cell_type": "code",
   "execution_count": 3,
   "metadata": {},
   "outputs": [],
   "source": [
    "parameters = {\n",
    "    \"PortalUrl\": \"http://www.arcgis.com\",\n",
    "    \"PortalUserName\": \"BOUZIANE_vmsd\",\n",
    "    \"PortalPassword\": \"Ilyas1998&\"\n",
    "}"
   ]
  },
  {
   "cell_type": "code",
   "execution_count": 5,
   "metadata": {},
   "outputs": [],
   "source": [
    "for keys, values in parameters.items():\n",
    "    url = parameters['PortalUrl']\n",
    "    username = parameters['PortalUserName']\n",
    "    password = parameters['PortalPassword']"
   ]
  },
  {
   "cell_type": "code",
   "execution_count": 6,
   "metadata": {},
   "outputs": [],
   "source": [
    "gis = GIS(url, username, password)"
   ]
  },
  {
   "cell_type": "code",
   "execution_count": 7,
   "metadata": {},
   "outputs": [
    {
     "data": {
      "text/plain": [
       "'5ysTfI4sUj8n6_dasrqB6vts3NjPDqEn9813tDrZikpD6HAmLBi7159j4BRA5_D2PzlAw3M0zUJI_COUeVPIkS6S4OB589-ONwXOKGSaSVaJ7CizBbUTpWQRXF0nW6AlXHndSgQ-FR4Z5O3WrSEieuKbDemxHpLF2h7eIHqG9OM.'"
      ]
     },
     "execution_count": 7,
     "metadata": {},
     "output_type": "execute_result"
    }
   ],
   "source": [
    "token = gis._con.token\n",
    "token"
   ]
  }
 ],
 "metadata": {
  "kernelspec": {
   "display_name": "Python 3.8.8 ('base')",
   "language": "python",
   "name": "python3"
  },
  "language_info": {
   "codemirror_mode": {
    "name": "ipython",
    "version": 3
   },
   "file_extension": ".py",
   "mimetype": "text/x-python",
   "name": "python",
   "nbconvert_exporter": "python",
   "pygments_lexer": "ipython3",
   "version": "3.8.8"
  },
  "orig_nbformat": 4,
  "vscode": {
   "interpreter": {
    "hash": "81f6155dc99dcb51114bf7b4fbaa987eb10d2451af0ab3786bebbe1c85cc4899"
   }
  }
 },
 "nbformat": 4,
 "nbformat_minor": 2
}
