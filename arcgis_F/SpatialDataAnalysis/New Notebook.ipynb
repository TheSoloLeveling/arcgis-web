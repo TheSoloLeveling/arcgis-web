{
 "cells": [
  {
   "cell_type": "markdown",
   "metadata": {},
   "source": [
    "### Convert *.tsv* into *.csv*"
   ]
  },
  {
   "cell_type": "code",
   "execution_count": 91,
   "metadata": {},
   "outputs": [],
   "source": [
    "import re\n",
    "import pandas as pd\n",
    "pd.options.mode.chained_assignment = None  # default='warn'"
   ]
  },
  {
   "cell_type": "markdown",
   "metadata": {},
   "source": [
    "### Let's do some preprocessing\n",
    "**The long lat column should be converted into 2 seperate columns**"
   ]
  },
  {
   "cell_type": "code",
   "execution_count": 6,
   "metadata": {},
   "outputs": [
    {
     "name": "stderr",
     "output_type": "stream",
     "text": [
      "C:\\Users\\zbook\\AppData\\Local\\Temp\\ipykernel_10476\\2700764299.py:1: DtypeWarning: Columns (14,15,24) have mixed types. Specify dtype option on import or set low_memory=False.\n",
      "  dataset = pd.read_csv('C:\\\\Users\\\\zbook\\\\OneDrive - UIR\\\\UIR\\\\S8\\\\SpatialData\\\\Geomatics_projects_experiments\\\\morocco_tbcov\\\\morocco_tbcov.tsv', delimiter='\\t')\n"
     ]
    }
   ],
   "source": [
    "dataset = pd.read_csv('C:\\\\Users\\\\zbook\\\\OneDrive - UIR\\\\UIR\\\\S8\\\\SpatialData\\\\Geomatics_projects_experiments\\\\morocco_tbcov\\\\morocco_tbcov.tsv', delimiter='\\t')"
   ]
  },
  {
   "cell_type": "code",
   "execution_count": 10,
   "metadata": {},
   "outputs": [
    {
     "data": {
      "text/plain": [
       "Index(['tweet_id', 'date_time', 'lang', 'user_id', 'retweeted_id', 'quoted_id',\n",
       "       'in_reply_to_id', 'sentiment_conf', 'sentiment_label', 'user_type',\n",
       "       'gender_label', 'tweet_text_named_entities', 'geo_coordinates_lat_lon',\n",
       "       'geo_country_code', 'geo_state', 'geo_county', 'geo_city',\n",
       "       'place_bounding_box', 'place_country_code', 'place_state',\n",
       "       'place_county', 'place_city', 'user_loc_toponyms',\n",
       "       'user_loc_country_code', 'user_loc_state', 'user_loc_county',\n",
       "       'user_loc_city', 'user_profile_description_toponyms',\n",
       "       'user_profile_description_country_code',\n",
       "       'user_profile_description_state', 'user_profile_description_county',\n",
       "       'user_profile_description_city', 'tweet_text_toponyms',\n",
       "       'tweet_text_country_code', 'tweet_text_state', 'tweet_text_county',\n",
       "       'tweet_text_city'],\n",
       "      dtype='object')"
      ]
     },
     "execution_count": 10,
     "metadata": {},
     "output_type": "execute_result"
    }
   ],
   "source": [
    "dataset.columns"
   ]
  },
  {
   "cell_type": "code",
   "execution_count": 12,
   "metadata": {},
   "outputs": [
    {
     "data": {
      "text/html": [
       "<div>\n",
       "<style scoped>\n",
       "    .dataframe tbody tr th:only-of-type {\n",
       "        vertical-align: middle;\n",
       "    }\n",
       "\n",
       "    .dataframe tbody tr th {\n",
       "        vertical-align: top;\n",
       "    }\n",
       "\n",
       "    .dataframe thead th {\n",
       "        text-align: right;\n",
       "    }\n",
       "</style>\n",
       "<table border=\"1\" class=\"dataframe\">\n",
       "  <thead>\n",
       "    <tr style=\"text-align: right;\">\n",
       "      <th></th>\n",
       "      <th>tweet_id</th>\n",
       "      <th>date_time</th>\n",
       "      <th>lang</th>\n",
       "      <th>user_id</th>\n",
       "      <th>retweeted_id</th>\n",
       "      <th>quoted_id</th>\n",
       "      <th>in_reply_to_id</th>\n",
       "      <th>sentiment_conf</th>\n",
       "      <th>sentiment_label</th>\n",
       "      <th>user_type</th>\n",
       "      <th>...</th>\n",
       "      <th>user_profile_description_toponyms</th>\n",
       "      <th>user_profile_description_country_code</th>\n",
       "      <th>user_profile_description_state</th>\n",
       "      <th>user_profile_description_county</th>\n",
       "      <th>user_profile_description_city</th>\n",
       "      <th>tweet_text_toponyms</th>\n",
       "      <th>tweet_text_country_code</th>\n",
       "      <th>tweet_text_state</th>\n",
       "      <th>tweet_text_county</th>\n",
       "      <th>tweet_text_city</th>\n",
       "    </tr>\n",
       "  </thead>\n",
       "  <tbody>\n",
       "    <tr>\n",
       "      <th>0</th>\n",
       "      <td>1223397292583145472</td>\n",
       "      <td>2020-02-01T00:06:58</td>\n",
       "      <td>en</td>\n",
       "      <td>1106997670961397761</td>\n",
       "      <td>1.223396e+18</td>\n",
       "      <td>NaN</td>\n",
       "      <td>NaN</td>\n",
       "      <td>0.732</td>\n",
       "      <td>0</td>\n",
       "      <td>PERCENT</td>\n",
       "      <td>...</td>\n",
       "      <td>NaN</td>\n",
       "      <td>NaN</td>\n",
       "      <td>NaN</td>\n",
       "      <td>NaN</td>\n",
       "      <td>NaN</td>\n",
       "      <td>['China']</td>\n",
       "      <td>['CN']</td>\n",
       "      <td>['UNK']</td>\n",
       "      <td>['UNK']</td>\n",
       "      <td>['UNK']</td>\n",
       "    </tr>\n",
       "    <tr>\n",
       "      <th>1</th>\n",
       "      <td>1223398070160744448</td>\n",
       "      <td>2020-02-01T00:10:04</td>\n",
       "      <td>en</td>\n",
       "      <td>846987896565485568</td>\n",
       "      <td>1.223190e+18</td>\n",
       "      <td>NaN</td>\n",
       "      <td>NaN</td>\n",
       "      <td>0.725</td>\n",
       "      <td>-1</td>\n",
       "      <td>UNK</td>\n",
       "      <td>...</td>\n",
       "      <td>NaN</td>\n",
       "      <td>NaN</td>\n",
       "      <td>NaN</td>\n",
       "      <td>NaN</td>\n",
       "      <td>NaN</td>\n",
       "      <td>NaN</td>\n",
       "      <td>NaN</td>\n",
       "      <td>NaN</td>\n",
       "      <td>NaN</td>\n",
       "      <td>NaN</td>\n",
       "    </tr>\n",
       "    <tr>\n",
       "      <th>2</th>\n",
       "      <td>1223399250005880833</td>\n",
       "      <td>2020-02-01T00:14:45</td>\n",
       "      <td>en</td>\n",
       "      <td>846987896565485568</td>\n",
       "      <td>1.223055e+18</td>\n",
       "      <td>NaN</td>\n",
       "      <td>NaN</td>\n",
       "      <td>0.903</td>\n",
       "      <td>-1</td>\n",
       "      <td>UNK</td>\n",
       "      <td>...</td>\n",
       "      <td>NaN</td>\n",
       "      <td>NaN</td>\n",
       "      <td>NaN</td>\n",
       "      <td>NaN</td>\n",
       "      <td>NaN</td>\n",
       "      <td>['china']</td>\n",
       "      <td>['CN']</td>\n",
       "      <td>['UNK']</td>\n",
       "      <td>['UNK']</td>\n",
       "      <td>['UNK']</td>\n",
       "    </tr>\n",
       "    <tr>\n",
       "      <th>3</th>\n",
       "      <td>1223400059066339333</td>\n",
       "      <td>2020-02-01T00:17:58</td>\n",
       "      <td>en</td>\n",
       "      <td>4823099225</td>\n",
       "      <td>1.223055e+18</td>\n",
       "      <td>NaN</td>\n",
       "      <td>NaN</td>\n",
       "      <td>0.903</td>\n",
       "      <td>-1</td>\n",
       "      <td>UNK</td>\n",
       "      <td>...</td>\n",
       "      <td>NaN</td>\n",
       "      <td>NaN</td>\n",
       "      <td>NaN</td>\n",
       "      <td>NaN</td>\n",
       "      <td>NaN</td>\n",
       "      <td>['china']</td>\n",
       "      <td>['CN']</td>\n",
       "      <td>['UNK']</td>\n",
       "      <td>['UNK']</td>\n",
       "      <td>['UNK']</td>\n",
       "    </tr>\n",
       "    <tr>\n",
       "      <th>4</th>\n",
       "      <td>1223400235009003521</td>\n",
       "      <td>2020-02-01T00:18:40</td>\n",
       "      <td>en</td>\n",
       "      <td>910954982689710080</td>\n",
       "      <td>1.223398e+18</td>\n",
       "      <td>NaN</td>\n",
       "      <td>NaN</td>\n",
       "      <td>0.491</td>\n",
       "      <td>-1</td>\n",
       "      <td>ORG</td>\n",
       "      <td>...</td>\n",
       "      <td>NaN</td>\n",
       "      <td>NaN</td>\n",
       "      <td>NaN</td>\n",
       "      <td>NaN</td>\n",
       "      <td>NaN</td>\n",
       "      <td>['Wuhan', 'the United States']</td>\n",
       "      <td>['CN', 'US']</td>\n",
       "      <td>['Hubei', 'UNK']</td>\n",
       "      <td>[\"Jiang'an District\", 'UNK']</td>\n",
       "      <td>['Wuhan', 'UNK']</td>\n",
       "    </tr>\n",
       "  </tbody>\n",
       "</table>\n",
       "<p>5 rows × 37 columns</p>\n",
       "</div>"
      ],
      "text/plain": [
       "              tweet_id            date_time lang              user_id  \\\n",
       "0  1223397292583145472  2020-02-01T00:06:58   en  1106997670961397761   \n",
       "1  1223398070160744448  2020-02-01T00:10:04   en   846987896565485568   \n",
       "2  1223399250005880833  2020-02-01T00:14:45   en   846987896565485568   \n",
       "3  1223400059066339333  2020-02-01T00:17:58   en           4823099225   \n",
       "4  1223400235009003521  2020-02-01T00:18:40   en   910954982689710080   \n",
       "\n",
       "   retweeted_id  quoted_id  in_reply_to_id  sentiment_conf  sentiment_label  \\\n",
       "0  1.223396e+18        NaN             NaN           0.732                0   \n",
       "1  1.223190e+18        NaN             NaN           0.725               -1   \n",
       "2  1.223055e+18        NaN             NaN           0.903               -1   \n",
       "3  1.223055e+18        NaN             NaN           0.903               -1   \n",
       "4  1.223398e+18        NaN             NaN           0.491               -1   \n",
       "\n",
       "  user_type  ... user_profile_description_toponyms  \\\n",
       "0   PERCENT  ...                               NaN   \n",
       "1       UNK  ...                               NaN   \n",
       "2       UNK  ...                               NaN   \n",
       "3       UNK  ...                               NaN   \n",
       "4       ORG  ...                               NaN   \n",
       "\n",
       "  user_profile_description_country_code user_profile_description_state  \\\n",
       "0                                   NaN                            NaN   \n",
       "1                                   NaN                            NaN   \n",
       "2                                   NaN                            NaN   \n",
       "3                                   NaN                            NaN   \n",
       "4                                   NaN                            NaN   \n",
       "\n",
       "  user_profile_description_county user_profile_description_city  \\\n",
       "0                             NaN                           NaN   \n",
       "1                             NaN                           NaN   \n",
       "2                             NaN                           NaN   \n",
       "3                             NaN                           NaN   \n",
       "4                             NaN                           NaN   \n",
       "\n",
       "              tweet_text_toponyms tweet_text_country_code  tweet_text_state  \\\n",
       "0                       ['China']                  ['CN']           ['UNK']   \n",
       "1                             NaN                     NaN               NaN   \n",
       "2                       ['china']                  ['CN']           ['UNK']   \n",
       "3                       ['china']                  ['CN']           ['UNK']   \n",
       "4  ['Wuhan', 'the United States']            ['CN', 'US']  ['Hubei', 'UNK']   \n",
       "\n",
       "              tweet_text_county   tweet_text_city  \n",
       "0                       ['UNK']           ['UNK']  \n",
       "1                           NaN               NaN  \n",
       "2                       ['UNK']           ['UNK']  \n",
       "3                       ['UNK']           ['UNK']  \n",
       "4  [\"Jiang'an District\", 'UNK']  ['Wuhan', 'UNK']  \n",
       "\n",
       "[5 rows x 37 columns]"
      ]
     },
     "execution_count": 12,
     "metadata": {},
     "output_type": "execute_result"
    }
   ],
   "source": [
    "dataset.head()"
   ]
  },
  {
   "cell_type": "code",
   "execution_count": 81,
   "metadata": {},
   "outputs": [
    {
     "data": {
      "text/plain": [
       "13387        [37.978224, -121.768525]\n",
       "32592      [33.58655958, -7.63253689]\n",
       "41492    [34.41137695, -118.56079806]\n",
       "42574              [35.7611, -5.8192]\n",
       "46327        [38.019586, -121.941103]\n",
       "Name: geo_coordinates_lat_lon, dtype: object"
      ]
     },
     "execution_count": 81,
     "metadata": {},
     "output_type": "execute_result"
    }
   ],
   "source": [
    "# remove NaN values\n",
    "clean_geo_coord = dataset.dropna(subset=['geo_coordinates_lat_lon'], inplace=False)\n",
    "clean_geo_coord.geo_coordinates_lat_lon.head()"
   ]
  },
  {
   "cell_type": "code",
   "execution_count": 99,
   "metadata": {},
   "outputs": [],
   "source": [
    "# format the lat lon column into 2\n",
    "latitude = []\n",
    "longitude = []\n",
    "for coord in clean_geo_coord.geo_coordinates_lat_lon:\n",
    "    coord = coord.replace('[', '')\n",
    "    coord = coord.replace(']', '')\n",
    "    lat, lon = coord.split(',')\n",
    "    latitude.append(lat)\n",
    "    longitude.append(lon)"
   ]
  },
  {
   "cell_type": "code",
   "execution_count": 103,
   "metadata": {},
   "outputs": [
    {
     "data": {
      "text/html": [
       "<div>\n",
       "<style scoped>\n",
       "    .dataframe tbody tr th:only-of-type {\n",
       "        vertical-align: middle;\n",
       "    }\n",
       "\n",
       "    .dataframe tbody tr th {\n",
       "        vertical-align: top;\n",
       "    }\n",
       "\n",
       "    .dataframe thead th {\n",
       "        text-align: right;\n",
       "    }\n",
       "</style>\n",
       "<table border=\"1\" class=\"dataframe\">\n",
       "  <thead>\n",
       "    <tr style=\"text-align: right;\">\n",
       "      <th></th>\n",
       "      <th>geo_coord_latitude</th>\n",
       "      <th>geo_coord_longitude</th>\n",
       "    </tr>\n",
       "  </thead>\n",
       "  <tbody>\n",
       "    <tr>\n",
       "      <th>13387</th>\n",
       "      <td>37.978224</td>\n",
       "      <td>-121.768525</td>\n",
       "    </tr>\n",
       "    <tr>\n",
       "      <th>32592</th>\n",
       "      <td>33.586560</td>\n",
       "      <td>-7.632537</td>\n",
       "    </tr>\n",
       "    <tr>\n",
       "      <th>41492</th>\n",
       "      <td>34.411377</td>\n",
       "      <td>-118.560798</td>\n",
       "    </tr>\n",
       "    <tr>\n",
       "      <th>42574</th>\n",
       "      <td>35.761100</td>\n",
       "      <td>-5.819200</td>\n",
       "    </tr>\n",
       "    <tr>\n",
       "      <th>46327</th>\n",
       "      <td>38.019586</td>\n",
       "      <td>-121.941103</td>\n",
       "    </tr>\n",
       "  </tbody>\n",
       "</table>\n",
       "</div>"
      ],
      "text/plain": [
       "       geo_coord_latitude  geo_coord_longitude\n",
       "13387           37.978224          -121.768525\n",
       "32592           33.586560            -7.632537\n",
       "41492           34.411377          -118.560798\n",
       "42574           35.761100            -5.819200\n",
       "46327           38.019586          -121.941103"
      ]
     },
     "execution_count": 103,
     "metadata": {},
     "output_type": "execute_result"
    }
   ],
   "source": [
    "# add 2 new columns : lat and lon\n",
    "clean_geo_coord['geo_coord_latitude'] = latitude\n",
    "clean_geo_coord['geo_coord_longitude'] = longitude\n",
    "\n",
    "clean_geo_coord = clean_geo_coord.astype({'geo_coord_latitude' : float})\n",
    "clean_geo_coord = clean_geo_coord.astype({'geo_coord_longitude' : float})\n",
    "\n",
    "clean_geo_coord[['geo_coord_latitude', 'geo_coord_longitude']].head()"
   ]
  },
  {
   "cell_type": "code",
   "execution_count": 104,
   "metadata": {},
   "outputs": [],
   "source": [
    "clean_geo_coord.to_csv('C:\\\\Users\\\\zbook\\\\OneDrive - UIR\\\\UIR\\\\S8\\\\SpatialData\\\\Geomatics_projects_experiments\\\\morocco_tbcov\\\\clean_morocco_tbcov.csv')"
   ]
  },
  {
   "cell_type": "markdown",
   "metadata": {},
   "source": [
    "Let's first try to :\n",
    "1. plot points based on lat and lon that we have \n",
    "2. plot regions based on location data we have (country, region, address...)"
   ]
  }
 ],
 "metadata": {
  "interpreter": {
   "hash": "7e0683708a40e5e31be6eca1343e37f88fae9f778fb3fd433a047241db249add"
  },
  "kernelspec": {
   "display_name": "ArcGISPro",
   "language": "Python",
   "name": "python3"
  },
  "language_info": {
   "file_extension": ".py",
   "name": "python",
   "version": "3"
  }
 },
 "nbformat": 4,
 "nbformat_minor": 2
}
